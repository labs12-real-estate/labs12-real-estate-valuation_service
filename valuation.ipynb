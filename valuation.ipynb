{
 "cells": [
  {
   "cell_type": "code",
   "execution_count": 11,
   "metadata": {},
   "outputs": [
    {
     "data": {
      "text/plain": [
       "{'data': <Element 'results' at 0x7f1d32fa6458>,\n",
       " 'zillow_id': '54737336',\n",
       " 'home_type': 'SingleFamily',\n",
       " 'home_detail_link': 'https://www.zillow.com/homedetails/42-Heron-Hill-Dr-Downingtown-PA-19335/54737336_zpid/',\n",
       " 'graph_data_link': 'http://www.zillow.com/homedetails/42-Heron-Hill-Dr-Downingtown-PA-19335/54737336_zpid/#charts-and-data',\n",
       " 'map_this_home_link': 'http://www.zillow.com/homes/54737336_zpid/',\n",
       " 'latitude': '40.073687',\n",
       " 'longitude': '-75.708315',\n",
       " 'tax_year': '2019',\n",
       " 'tax_value': '262780.0',\n",
       " 'year_built': '1987',\n",
       " 'property_size': '43560',\n",
       " 'home_size': '3298',\n",
       " 'bathrooms': '2.5',\n",
       " 'bedrooms': '4',\n",
       " 'last_sold_date': '11/14/1989',\n",
       " 'last_sold_price': '305000',\n",
       " 'zestimate_amount': '512326',\n",
       " 'zestimate_last_updated': '05/18/2019',\n",
       " 'zestimate_value_change': '6841',\n",
       " 'zestimate_valuation_range_high': '537942',\n",
       " 'zestimate_valuationRange_low': '486710',\n",
       " 'zestimate_percentile': '0'}"
      ]
     },
     "execution_count": 11,
     "metadata": {},
     "output_type": "execute_result"
    }
   ],
   "source": [
    "from collections import namedtuple\n",
    "\n",
    "#from zillow_adapter import X\n",
    "\n",
    "zill_props = ['bathrooms',\n",
    " 'bedrooms',\n",
    " 'data',\n",
    " 'get_attr',\n",
    " 'graph_data_link',\n",
    " 'home_detail_link',\n",
    " 'home_size',\n",
    " 'home_type',\n",
    " 'last_sold_date',\n",
    " 'last_sold_price',\n",
    " 'last_sold_price_currency',\n",
    " 'latitude',\n",
    " 'longitude',\n",
    " 'map_this_home_link',\n",
    " 'property_size',\n",
    " 'tax_value',\n",
    " 'tax_year',\n",
    " 'year_built',]\n",
    "\n",
    "user_props = ['furnance_year', 'roof_year', 'countertops', 'kitchen_floor']\n",
    "\n",
    "X.results.__dict__"
   ]
  },
  {
   "cell_type": "code",
   "execution_count": 14,
   "metadata": {},
   "outputs": [
    {
     "ename": "KeyError",
     "evalue": "'get_attr'",
     "output_type": "error",
     "traceback": [
      "\u001b[0;31m---------------------------------------------------------------------------\u001b[0m",
      "\u001b[0;31mKeyError\u001b[0m                                  Traceback (most recent call last)",
      "\u001b[0;32m<ipython-input-14-1fd041ceea8b>\u001b[0m in \u001b[0;36m<module>\u001b[0;34m\u001b[0m\n\u001b[1;32m      1\u001b[0m \u001b[0mHome\u001b[0m \u001b[0;34m=\u001b[0m \u001b[0mnamedtuple\u001b[0m\u001b[0;34m(\u001b[0m\u001b[0;34m\"Home\"\u001b[0m\u001b[0;34m,\u001b[0m \u001b[0mzill_props\u001b[0m \u001b[0;34m+\u001b[0m \u001b[0;34m[\u001b[0m\u001b[0;34m'countertops'\u001b[0m\u001b[0;34m,\u001b[0m \u001b[0;34m'roof_age'\u001b[0m\u001b[0;34m]\u001b[0m\u001b[0;34m)\u001b[0m\u001b[0;34m\u001b[0m\u001b[0m\n\u001b[1;32m      2\u001b[0m \u001b[0;34m\u001b[0m\u001b[0m\n\u001b[0;32m----> 3\u001b[0;31m \u001b[0mHome\u001b[0m\u001b[0;34m(\u001b[0m\u001b[0;34m[\u001b[0m\u001b[0mX\u001b[0m\u001b[0;34m.\u001b[0m\u001b[0mresults\u001b[0m\u001b[0;34m.\u001b[0m\u001b[0m__dict__\u001b[0m\u001b[0;34m[\u001b[0m\u001b[0mfeat\u001b[0m\u001b[0;34m]\u001b[0m \u001b[0;32mfor\u001b[0m \u001b[0mfeat\u001b[0m \u001b[0;32min\u001b[0m \u001b[0mzill_props\u001b[0m\u001b[0;34m]\u001b[0m\u001b[0;34m)\u001b[0m\u001b[0;34m\u001b[0m\u001b[0m\n\u001b[0m",
      "\u001b[0;32m<ipython-input-14-1fd041ceea8b>\u001b[0m in \u001b[0;36m<listcomp>\u001b[0;34m(.0)\u001b[0m\n\u001b[1;32m      1\u001b[0m \u001b[0mHome\u001b[0m \u001b[0;34m=\u001b[0m \u001b[0mnamedtuple\u001b[0m\u001b[0;34m(\u001b[0m\u001b[0;34m\"Home\"\u001b[0m\u001b[0;34m,\u001b[0m \u001b[0mzill_props\u001b[0m \u001b[0;34m+\u001b[0m \u001b[0;34m[\u001b[0m\u001b[0;34m'countertops'\u001b[0m\u001b[0;34m,\u001b[0m \u001b[0;34m'roof_age'\u001b[0m\u001b[0;34m]\u001b[0m\u001b[0;34m)\u001b[0m\u001b[0;34m\u001b[0m\u001b[0m\n\u001b[1;32m      2\u001b[0m \u001b[0;34m\u001b[0m\u001b[0m\n\u001b[0;32m----> 3\u001b[0;31m \u001b[0mHome\u001b[0m\u001b[0;34m(\u001b[0m\u001b[0;34m[\u001b[0m\u001b[0mX\u001b[0m\u001b[0;34m.\u001b[0m\u001b[0mresults\u001b[0m\u001b[0;34m.\u001b[0m\u001b[0m__dict__\u001b[0m\u001b[0;34m[\u001b[0m\u001b[0mfeat\u001b[0m\u001b[0;34m]\u001b[0m \u001b[0;32mfor\u001b[0m \u001b[0mfeat\u001b[0m \u001b[0;32min\u001b[0m \u001b[0mzill_props\u001b[0m\u001b[0;34m]\u001b[0m\u001b[0;34m)\u001b[0m\u001b[0;34m\u001b[0m\u001b[0m\n\u001b[0m",
      "\u001b[0;31mKeyError\u001b[0m: 'get_attr'"
     ]
    }
   ],
   "source": [
    "Home = namedtuple(\"Home\", zill_props + ['countertops', 'roof_age'])\n",
    "\n",
    "#Home([X.results.__dict__[feat] for feat in zill_props])"
   ]
  },
  {
   "cell_type": "code",
   "execution_count": 3,
   "metadata": {},
   "outputs": [
    {
     "name": "stdout",
     "output_type": "stream",
     "text": [
      "Help on function namedtuple in module collections:\n",
      "\n",
      "namedtuple(typename, field_names, *, verbose=False, rename=False, module=None)\n",
      "    Returns a new subclass of tuple with named fields.\n",
      "    \n",
      "    >>> Point = namedtuple('Point', ['x', 'y'])\n",
      "    >>> Point.__doc__                   # docstring for the new class\n",
      "    'Point(x, y)'\n",
      "    >>> p = Point(11, y=22)             # instantiate with positional args or keywords\n",
      "    >>> p[0] + p[1]                     # indexable like a plain tuple\n",
      "    33\n",
      "    >>> x, y = p                        # unpack like a regular tuple\n",
      "    >>> x, y\n",
      "    (11, 22)\n",
      "    >>> p.x + p.y                       # fields also accessible by name\n",
      "    33\n",
      "    >>> d = p._asdict()                 # convert to a dictionary\n",
      "    >>> d['x']\n",
      "    11\n",
      "    >>> Point(**d)                      # convert from a dictionary\n",
      "    Point(x=11, y=22)\n",
      "    >>> p._replace(x=100)               # _replace() is like str.replace() but targets named fields\n",
      "    Point(x=100, y=22)\n",
      "\n"
     ]
    }
   ],
   "source": [
    "help(namedtuple)"
   ]
  },
  {
   "cell_type": "code",
   "execution_count": 3,
   "metadata": {},
   "outputs": [
    {
     "data": {
      "text/plain": [
       "<pyzillow.pyzillow.GetDeepSearchResults at 0x7f964eea84a8>"
      ]
     },
     "execution_count": 3,
     "metadata": {},
     "output_type": "execute_result"
    }
   ],
   "source": [
    "from zillow_adapter import X\n",
    "\n",
    "X.results"
   ]
  },
  {
   "cell_type": "code",
   "execution_count": 7,
   "metadata": {},
   "outputs": [
    {
     "name": "stdout",
     "output_type": "stream",
     "text": [
      "None\n"
     ]
    }
   ],
   "source": [
    "from zillow_adapter import ask_zillow\n",
    "\n",
    "print(ask_zillow(\"fish\", 10223).results)\n"
   ]
  },
  {
   "cell_type": "code",
   "execution_count": null,
   "metadata": {},
   "outputs": [],
   "source": []
  }
 ],
 "metadata": {
  "kernelspec": {
   "display_name": "Python 3",
   "language": "python",
   "name": "python3"
  },
  "language_info": {
   "codemirror_mode": {
    "name": "ipython",
    "version": 3
   },
   "file_extension": ".py",
   "mimetype": "text/x-python",
   "name": "python",
   "nbconvert_exporter": "python",
   "pygments_lexer": "ipython3",
   "version": "3.6.6"
  }
 },
 "nbformat": 4,
 "nbformat_minor": 2
}
