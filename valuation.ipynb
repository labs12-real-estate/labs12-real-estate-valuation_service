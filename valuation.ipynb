{
 "cells": [
  {
   "cell_type": "code",
   "execution_count": 14,
   "metadata": {},
   "outputs": [
    {
     "name": "stdout",
     "output_type": "stream",
     "text": [
      "(24773, 11)\n"
     ]
    },
    {
     "data": {
      "text/html": [
       "<div>\n",
       "<style scoped>\n",
       "    .dataframe tbody tr th:only-of-type {\n",
       "        vertical-align: middle;\n",
       "    }\n",
       "\n",
       "    .dataframe tbody tr th {\n",
       "        vertical-align: top;\n",
       "    }\n",
       "\n",
       "    .dataframe thead th {\n",
       "        text-align: right;\n",
       "    }\n",
       "</style>\n",
       "<table border=\"1\" class=\"dataframe\">\n",
       "  <thead>\n",
       "    <tr style=\"text-align: right;\">\n",
       "      <th></th>\n",
       "      <th>bedrooms</th>\n",
       "      <th>roof_year</th>\n",
       "      <th>bathrooms</th>\n",
       "      <th>year_built</th>\n",
       "      <th>furnace_year</th>\n",
       "      <th>quartz_countertops</th>\n",
       "      <th>granite_countertops</th>\n",
       "      <th>formica_countertops</th>\n",
       "      <th>tile_countertops</th>\n",
       "      <th>laminate_floors</th>\n",
       "      <th>hardwood_floors</th>\n",
       "    </tr>\n",
       "  </thead>\n",
       "  <tbody>\n",
       "    <tr>\n",
       "      <th>0</th>\n",
       "      <td>4</td>\n",
       "      <td>15+</td>\n",
       "      <td>2.1</td>\n",
       "      <td>1999</td>\n",
       "      <td>15+</td>\n",
       "      <td>0</td>\n",
       "      <td>1</td>\n",
       "      <td>0</td>\n",
       "      <td>0</td>\n",
       "      <td>0</td>\n",
       "      <td>0</td>\n",
       "    </tr>\n",
       "    <tr>\n",
       "      <th>3</th>\n",
       "      <td>5</td>\n",
       "      <td>15+</td>\n",
       "      <td>3.0</td>\n",
       "      <td>1996</td>\n",
       "      <td>15+</td>\n",
       "      <td>0</td>\n",
       "      <td>0</td>\n",
       "      <td>0</td>\n",
       "      <td>0</td>\n",
       "      <td>0</td>\n",
       "      <td>1</td>\n",
       "    </tr>\n",
       "    <tr>\n",
       "      <th>6</th>\n",
       "      <td>3</td>\n",
       "      <td>15+</td>\n",
       "      <td>2.1</td>\n",
       "      <td>1997</td>\n",
       "      <td>15+</td>\n",
       "      <td>0</td>\n",
       "      <td>1</td>\n",
       "      <td>0</td>\n",
       "      <td>0</td>\n",
       "      <td>0</td>\n",
       "      <td>0</td>\n",
       "    </tr>\n",
       "    <tr>\n",
       "      <th>10</th>\n",
       "      <td>4</td>\n",
       "      <td>15+</td>\n",
       "      <td>3.0</td>\n",
       "      <td>1992</td>\n",
       "      <td>15+</td>\n",
       "      <td>0</td>\n",
       "      <td>1</td>\n",
       "      <td>0</td>\n",
       "      <td>0</td>\n",
       "      <td>0</td>\n",
       "      <td>1</td>\n",
       "    </tr>\n",
       "    <tr>\n",
       "      <th>11</th>\n",
       "      <td>4</td>\n",
       "      <td>15+</td>\n",
       "      <td>3.1</td>\n",
       "      <td>1980</td>\n",
       "      <td>15+</td>\n",
       "      <td>0</td>\n",
       "      <td>0</td>\n",
       "      <td>0</td>\n",
       "      <td>0</td>\n",
       "      <td>0</td>\n",
       "      <td>1</td>\n",
       "    </tr>\n",
       "  </tbody>\n",
       "</table>\n",
       "</div>"
      ],
      "text/plain": [
       "    bedrooms roof_year  bathrooms  year_built furnace_year  \\\n",
       "0          4       15+        2.1        1999          15+   \n",
       "3          5       15+        3.0        1996          15+   \n",
       "6          3       15+        2.1        1997          15+   \n",
       "10         4       15+        3.0        1992          15+   \n",
       "11         4       15+        3.1        1980          15+   \n",
       "\n",
       "    quartz_countertops  granite_countertops  formica_countertops  \\\n",
       "0                    0                    1                    0   \n",
       "3                    0                    0                    0   \n",
       "6                    0                    1                    0   \n",
       "10                   0                    1                    0   \n",
       "11                   0                    0                    0   \n",
       "\n",
       "    tile_countertops  laminate_floors  hardwood_floors  \n",
       "0                  0                0                0  \n",
       "3                  0                0                1  \n",
       "6                  0                0                0  \n",
       "10                 0                0                1  \n",
       "11                 0                0                1  "
      ]
     },
     "execution_count": 14,
     "metadata": {},
     "output_type": "execute_result"
    }
   ],
   "source": [
    "from collections import namedtuple\n",
    "import pickle\n",
    "import pandas as pd\n",
    "from zillow_adapter import ask_zillow\n",
    "from sklearn.ensemble import RandomForestRegressor\n",
    "\n",
    "\n",
    "with open(\"final_df.pickle\", \"rb\") as fp: \n",
    "    X_, y = pickle.load(fp)\n",
    "    \n",
    "def prep(dat: pd.DataFrame) -> pd.DataFrame: \n",
    "    \n",
    "    return (dat.drop(['zip5_encoded', 'city_encoded'], axis=1)\n",
    "            .rename(columns={'year_built_bin': 'year_built', 'baths_lavs': 'bathrooms', 'beds_total': 'bedrooms'})\n",
    "            .assign(**{feat: pd.cut(dat[feat], \n",
    "                                    bins=[0, 4, 9, 14, 10000], \n",
    "                                    labels=[\"0-4 years\", \"5-9 years\", \"10-14 years\", \"15+\"]) \n",
    "                       for feat \n",
    "                       in ['roof_year', 'furnace_year']}))\n",
    "\n",
    "X = prep(X_)\n",
    "\n",
    "address, zipcode = \"4565 White Rd, Pierson, MI\", 49339\n",
    "house = ask_zillow(address, zipcode)\n",
    "\n",
    "print(X.shape)\n",
    "inps = {feat: house.results.__dict__[feat] for feat in ('bedrooms', 'bathrooms', 'year_built')}\n",
    "\n",
    "countertops_map = {\"Marble/Quartz\": [1, 0, 0, 0],\n",
    "                   \"Granite/Concrete\": [0, 1, 0, 0],\n",
    "                   '\"Formica/Tile\"': [0, 0, 1, 1], \n",
    "                   'Laminate': [0, 0, 0, 0], \n",
    "                   'skip': [X.quartz_countertops.mean(), \n",
    "                            X.granite_countertops.mean(), \n",
    "                            X.formica_countertops.mean(), \n",
    "                            X.tile_countertops.mean()]}\n",
    "\n",
    "flooring_map = {\"Hardwood\" : [0, 1], \n",
    "                \"Engineered/Laminate\": [1, 0], \n",
    "                \"Ceramic Tile\": [0, 0], \n",
    "                \"Porcelain Tile/Concrete\": [0, 0], \n",
    "                \"skip\": [X.laminate_floors.mean(), \n",
    "                         X.hardwood_floors.mean()]}\n",
    "\n",
    "roof_furnace_map = {**{'skip': y.mean()}, **{feat: feat \n",
    "                                             for feat \n",
    "                                             in [\"0-4 years\", \"5-9 years\", \"10-14 years\", \"15+\"]}}\n",
    "\n",
    "X.head()"
   ]
  },
  {
   "cell_type": "code",
   "execution_count": 15,
   "metadata": {},
   "outputs": [
    {
     "data": {
      "text/plain": [
       "{'skip': 153.82237057709239,\n",
       " '0-4 years': '0-4 years',\n",
       " '5-9 years': '5-9 years',\n",
       " '10-14 years': '10-14 years',\n",
       " '15+': '15+'}"
      ]
     },
     "execution_count": 15,
     "metadata": {},
     "output_type": "execute_result"
    }
   ],
   "source": [
    "roof_furnace_map"
   ]
  },
  {
   "cell_type": "code",
   "execution_count": 47,
   "metadata": {},
   "outputs": [
    {
     "data": {
      "text/plain": [
       "{'bedrooms': '3', 'bathrooms': '1.0', 'year_built': '1980'}"
      ]
     },
     "execution_count": 47,
     "metadata": {},
     "output_type": "execute_result"
    }
   ],
   "source": [
    "{feat: house.results.__dict__[feat] for feat in ('bedrooms', 'bathrooms', 'year_built')}"
   ]
  },
  {
   "cell_type": "code",
   "execution_count": null,
   "metadata": {},
   "outputs": [],
   "source": [
    "\n",
    "# dog = pre.copy()\n",
    "\n",
    "# dog.furnace_year = dog.furnace_year.replace({2019:0})\n",
    "\n",
    "# bins = [0,5,10,15,2000]\n",
    "# labels = ['0 to 4', '5 to 9', '10 to 14', '15+']\n",
    "\n",
    "# dog['furnace_year_binned'] = pd.cut(dog['furnace_year'], \n",
    "#                                     bins, \n",
    "#                                     labels = labels, \n",
    "#                                     right=False,\n",
    "#                                     include_lowest=True)\n",
    "\n",
    "# dog['roof_year_binned'] = pd.cut(dog['roof_year'], \n",
    "#                                     bins, \n",
    "#                                     labels = labels, \n",
    "#                                     right=False,\n",
    "#                                     include_lowest=True)\n",
    "\n",
    "#from zillow_adapter import X\n",
    "\n",
    "# zill_props = ['bathrooms',\n",
    "#  'bedrooms',\n",
    "#  'data',\n",
    "#  'get_attr',\n",
    "#  'graph_data_link',\n",
    "#  'home_detail_link',\n",
    "#  'home_size',\n",
    "#  'home_type',\n",
    "#  'last_sold_date',\n",
    "#  'last_sold_price',\n",
    "#  'last_sold_price_currency',\n",
    "#  'latitude',\n",
    "#  'longitude',\n",
    "#  'map_this_home_link',\n",
    "#  'property_size',\n",
    "#  'tax_value',\n",
    "#  'tax_year',\n",
    "#  'year_built',]\n",
    "\n",
    "# user_props = ['furnance_year', 'roof_year', 'countertops', 'kitchen_floor']\n",
    "\n",
    "# X.results.__dict__"
   ]
  },
  {
   "cell_type": "code",
   "execution_count": 14,
   "metadata": {},
   "outputs": [
    {
     "ename": "KeyError",
     "evalue": "'get_attr'",
     "output_type": "error",
     "traceback": [
      "\u001b[0;31m---------------------------------------------------------------------------\u001b[0m",
      "\u001b[0;31mKeyError\u001b[0m                                  Traceback (most recent call last)",
      "\u001b[0;32m<ipython-input-14-1fd041ceea8b>\u001b[0m in \u001b[0;36m<module>\u001b[0;34m\u001b[0m\n\u001b[1;32m      1\u001b[0m \u001b[0mHome\u001b[0m \u001b[0;34m=\u001b[0m \u001b[0mnamedtuple\u001b[0m\u001b[0;34m(\u001b[0m\u001b[0;34m\"Home\"\u001b[0m\u001b[0;34m,\u001b[0m \u001b[0mzill_props\u001b[0m \u001b[0;34m+\u001b[0m \u001b[0;34m[\u001b[0m\u001b[0;34m'countertops'\u001b[0m\u001b[0;34m,\u001b[0m \u001b[0;34m'roof_age'\u001b[0m\u001b[0;34m]\u001b[0m\u001b[0;34m)\u001b[0m\u001b[0;34m\u001b[0m\u001b[0m\n\u001b[1;32m      2\u001b[0m \u001b[0;34m\u001b[0m\u001b[0m\n\u001b[0;32m----> 3\u001b[0;31m \u001b[0mHome\u001b[0m\u001b[0;34m(\u001b[0m\u001b[0;34m[\u001b[0m\u001b[0mX\u001b[0m\u001b[0;34m.\u001b[0m\u001b[0mresults\u001b[0m\u001b[0;34m.\u001b[0m\u001b[0m__dict__\u001b[0m\u001b[0;34m[\u001b[0m\u001b[0mfeat\u001b[0m\u001b[0;34m]\u001b[0m \u001b[0;32mfor\u001b[0m \u001b[0mfeat\u001b[0m \u001b[0;32min\u001b[0m \u001b[0mzill_props\u001b[0m\u001b[0;34m]\u001b[0m\u001b[0;34m)\u001b[0m\u001b[0;34m\u001b[0m\u001b[0m\n\u001b[0m",
      "\u001b[0;32m<ipython-input-14-1fd041ceea8b>\u001b[0m in \u001b[0;36m<listcomp>\u001b[0;34m(.0)\u001b[0m\n\u001b[1;32m      1\u001b[0m \u001b[0mHome\u001b[0m \u001b[0;34m=\u001b[0m \u001b[0mnamedtuple\u001b[0m\u001b[0;34m(\u001b[0m\u001b[0;34m\"Home\"\u001b[0m\u001b[0;34m,\u001b[0m \u001b[0mzill_props\u001b[0m \u001b[0;34m+\u001b[0m \u001b[0;34m[\u001b[0m\u001b[0;34m'countertops'\u001b[0m\u001b[0;34m,\u001b[0m \u001b[0;34m'roof_age'\u001b[0m\u001b[0;34m]\u001b[0m\u001b[0;34m)\u001b[0m\u001b[0;34m\u001b[0m\u001b[0m\n\u001b[1;32m      2\u001b[0m \u001b[0;34m\u001b[0m\u001b[0m\n\u001b[0;32m----> 3\u001b[0;31m \u001b[0mHome\u001b[0m\u001b[0;34m(\u001b[0m\u001b[0;34m[\u001b[0m\u001b[0mX\u001b[0m\u001b[0;34m.\u001b[0m\u001b[0mresults\u001b[0m\u001b[0;34m.\u001b[0m\u001b[0m__dict__\u001b[0m\u001b[0;34m[\u001b[0m\u001b[0mfeat\u001b[0m\u001b[0;34m]\u001b[0m \u001b[0;32mfor\u001b[0m \u001b[0mfeat\u001b[0m \u001b[0;32min\u001b[0m \u001b[0mzill_props\u001b[0m\u001b[0;34m]\u001b[0m\u001b[0;34m)\u001b[0m\u001b[0;34m\u001b[0m\u001b[0m\n\u001b[0m",
      "\u001b[0;31mKeyError\u001b[0m: 'get_attr'"
     ]
    }
   ],
   "source": [
    "Home = namedtuple(\"Home\", zill_props + ['countertops', 'roof_age'])\n",
    "\n",
    "#Home([X.results.__dict__[feat] for feat in zill_props])"
   ]
  },
  {
   "cell_type": "code",
   "execution_count": 3,
   "metadata": {},
   "outputs": [
    {
     "name": "stdout",
     "output_type": "stream",
     "text": [
      "Help on function namedtuple in module collections:\n",
      "\n",
      "namedtuple(typename, field_names, *, verbose=False, rename=False, module=None)\n",
      "    Returns a new subclass of tuple with named fields.\n",
      "    \n",
      "    >>> Point = namedtuple('Point', ['x', 'y'])\n",
      "    >>> Point.__doc__                   # docstring for the new class\n",
      "    'Point(x, y)'\n",
      "    >>> p = Point(11, y=22)             # instantiate with positional args or keywords\n",
      "    >>> p[0] + p[1]                     # indexable like a plain tuple\n",
      "    33\n",
      "    >>> x, y = p                        # unpack like a regular tuple\n",
      "    >>> x, y\n",
      "    (11, 22)\n",
      "    >>> p.x + p.y                       # fields also accessible by name\n",
      "    33\n",
      "    >>> d = p._asdict()                 # convert to a dictionary\n",
      "    >>> d['x']\n",
      "    11\n",
      "    >>> Point(**d)                      # convert from a dictionary\n",
      "    Point(x=11, y=22)\n",
      "    >>> p._replace(x=100)               # _replace() is like str.replace() but targets named fields\n",
      "    Point(x=100, y=22)\n",
      "\n"
     ]
    }
   ],
   "source": [
    "help(namedtuple)"
   ]
  },
  {
   "cell_type": "code",
   "execution_count": 3,
   "metadata": {},
   "outputs": [
    {
     "data": {
      "text/plain": [
       "<pyzillow.pyzillow.GetDeepSearchResults at 0x7f964eea84a8>"
      ]
     },
     "execution_count": 3,
     "metadata": {},
     "output_type": "execute_result"
    }
   ],
   "source": [
    "from zillow_adapter import X\n",
    "\n",
    "X.results"
   ]
  },
  {
   "cell_type": "code",
   "execution_count": 7,
   "metadata": {},
   "outputs": [
    {
     "name": "stdout",
     "output_type": "stream",
     "text": [
      "None\n"
     ]
    }
   ],
   "source": [
    "from zillow_adapter import ask_zillow\n",
    "\n",
    "print(ask_zillow(\"fish\", 10223).results)\n"
   ]
  },
  {
   "cell_type": "code",
   "execution_count": null,
   "metadata": {},
   "outputs": [],
   "source": []
  }
 ],
 "metadata": {
  "kernelspec": {
   "display_name": "Python 3",
   "language": "python",
   "name": "python3"
  },
  "language_info": {
   "codemirror_mode": {
    "name": "ipython",
    "version": 3
   },
   "file_extension": ".py",
   "mimetype": "text/x-python",
   "name": "python",
   "nbconvert_exporter": "python",
   "pygments_lexer": "ipython3",
   "version": "3.6.6"
  }
 },
 "nbformat": 4,
 "nbformat_minor": 2
}
