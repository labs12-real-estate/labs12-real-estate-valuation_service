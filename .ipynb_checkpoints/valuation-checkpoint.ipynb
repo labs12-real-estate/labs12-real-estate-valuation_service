{
 "cells": [
  {
   "cell_type": "code",
   "execution_count": 36,
   "metadata": {},
   "outputs": [
    {
     "name": "stdout",
     "output_type": "stream",
     "text": [
      "(24773, 11)\n"
     ]
    },
    {
     "data": {
      "text/html": [
       "<div>\n",
       "<style scoped>\n",
       "    .dataframe tbody tr th:only-of-type {\n",
       "        vertical-align: middle;\n",
       "    }\n",
       "\n",
       "    .dataframe tbody tr th {\n",
       "        vertical-align: top;\n",
       "    }\n",
       "\n",
       "    .dataframe thead th {\n",
       "        text-align: right;\n",
       "    }\n",
       "</style>\n",
       "<table border=\"1\" class=\"dataframe\">\n",
       "  <thead>\n",
       "    <tr style=\"text-align: right;\">\n",
       "      <th></th>\n",
       "      <th>bedrooms</th>\n",
       "      <th>bathrooms</th>\n",
       "      <th>year_built</th>\n",
       "      <th>quartz_countertops</th>\n",
       "      <th>granite_countertops</th>\n",
       "      <th>formica_countertops</th>\n",
       "      <th>tile_countertops</th>\n",
       "      <th>laminate_floors</th>\n",
       "      <th>hardwood_floors</th>\n",
       "      <th>roof_year</th>\n",
       "      <th>furnace_year</th>\n",
       "    </tr>\n",
       "  </thead>\n",
       "  <tbody>\n",
       "    <tr>\n",
       "      <th>0</th>\n",
       "      <td>4</td>\n",
       "      <td>2.1</td>\n",
       "      <td>1999</td>\n",
       "      <td>0</td>\n",
       "      <td>1</td>\n",
       "      <td>0</td>\n",
       "      <td>0</td>\n",
       "      <td>0</td>\n",
       "      <td>0</td>\n",
       "      <td>15+</td>\n",
       "      <td>15+</td>\n",
       "    </tr>\n",
       "    <tr>\n",
       "      <th>3</th>\n",
       "      <td>5</td>\n",
       "      <td>3.0</td>\n",
       "      <td>1996</td>\n",
       "      <td>0</td>\n",
       "      <td>0</td>\n",
       "      <td>0</td>\n",
       "      <td>0</td>\n",
       "      <td>0</td>\n",
       "      <td>1</td>\n",
       "      <td>15+</td>\n",
       "      <td>15+</td>\n",
       "    </tr>\n",
       "    <tr>\n",
       "      <th>6</th>\n",
       "      <td>3</td>\n",
       "      <td>2.1</td>\n",
       "      <td>1997</td>\n",
       "      <td>0</td>\n",
       "      <td>1</td>\n",
       "      <td>0</td>\n",
       "      <td>0</td>\n",
       "      <td>0</td>\n",
       "      <td>0</td>\n",
       "      <td>15+</td>\n",
       "      <td>15+</td>\n",
       "    </tr>\n",
       "    <tr>\n",
       "      <th>10</th>\n",
       "      <td>4</td>\n",
       "      <td>3.0</td>\n",
       "      <td>1992</td>\n",
       "      <td>0</td>\n",
       "      <td>1</td>\n",
       "      <td>0</td>\n",
       "      <td>0</td>\n",
       "      <td>0</td>\n",
       "      <td>1</td>\n",
       "      <td>15+</td>\n",
       "      <td>15+</td>\n",
       "    </tr>\n",
       "    <tr>\n",
       "      <th>11</th>\n",
       "      <td>4</td>\n",
       "      <td>3.1</td>\n",
       "      <td>1980</td>\n",
       "      <td>0</td>\n",
       "      <td>0</td>\n",
       "      <td>0</td>\n",
       "      <td>0</td>\n",
       "      <td>0</td>\n",
       "      <td>1</td>\n",
       "      <td>15+</td>\n",
       "      <td>15+</td>\n",
       "    </tr>\n",
       "  </tbody>\n",
       "</table>\n",
       "</div>"
      ],
      "text/plain": [
       "    bedrooms  bathrooms  year_built  quartz_countertops  granite_countertops  \\\n",
       "0          4        2.1        1999                   0                    1   \n",
       "3          5        3.0        1996                   0                    0   \n",
       "6          3        2.1        1997                   0                    1   \n",
       "10         4        3.0        1992                   0                    1   \n",
       "11         4        3.1        1980                   0                    0   \n",
       "\n",
       "    formica_countertops  tile_countertops  laminate_floors  hardwood_floors  \\\n",
       "0                     0                 0                0                0   \n",
       "3                     0                 0                0                1   \n",
       "6                     0                 0                0                0   \n",
       "10                    0                 0                0                1   \n",
       "11                    0                 0                0                1   \n",
       "\n",
       "   roof_year furnace_year  \n",
       "0        15+          15+  \n",
       "3        15+          15+  \n",
       "6        15+          15+  \n",
       "10       15+          15+  \n",
       "11       15+          15+  "
      ]
     },
     "execution_count": 36,
     "metadata": {},
     "output_type": "execute_result"
    }
   ],
   "source": [
    "from collections import namedtuple\n",
    "import pickle\n",
    "import pandas as pd\n",
    "import numpy as np\n",
    "from zillow_adapter import ask_zillow\n",
    "from sklearn.ensemble import GradientBoostingRegressor, RandomForestRegressor\n",
    "from sklearn.compose import ColumnTransformer\n",
    "from sklearn.preprocessing import OneHotEncoder\n",
    "from sklearn.pipeline import Pipeline\n",
    "from sklearn.model_selection import RandomizedSearchCV\n",
    "from sklearn.impute import SimpleImputer\n",
    "from category_encoders.basen import BaseNEncoder\n",
    "\n",
    "with open(\"final_df.pickle\", \"rb\") as fp: \n",
    "    X_, y = pickle.load(fp)\n",
    "    \n",
    "cate = ['roof_year', 'furnace_year']    \n",
    "\n",
    "def prep(dat: pd.DataFrame) -> pd.DataFrame: \n",
    "    \n",
    "    return (dat.drop(['zip5_encoded', 'city_encoded'], axis=1)\n",
    "            \n",
    "            # match column names to zillow\n",
    "            .rename(columns={'year_built_bin': 'year_built', 'baths_lavs': 'bathrooms', 'beds_total': 'bedrooms'})\n",
    "            \n",
    "            ## BIN LABELS NEED TO BE THIS\n",
    "            .assign(**{feat: pd.cut(dat[feat], \n",
    "                                    bins=[0, 4, 9, 14, 10000], \n",
    "                                    labels=[\"0-4 years\", \"5-9 years\", \"10-14 years\", \"15+\"])\n",
    "                                .fillna(\"15+\") \n",
    "                       for feat \n",
    "                       in cate})\n",
    "            \n",
    "            ## NEEDS TO BE IN THIS ORDER\n",
    "            .reindex(['bedrooms', 'bathrooms', 'year_built', \n",
    "                      'quartz_countertops', 'granite_countertops', 'formica_countertops', 'tile_countertops',\n",
    "                      'laminate_floors', 'hardwood_floors', \n",
    "                      'roof_year', 'furnace_year'], axis=1))\n",
    "\n",
    "X = prep(X_)\n",
    "\n",
    "# address, zipcode = \"4565 White Rd, Pierson, MI\", 49339\n",
    "# house = ask_zillow(address, zipcode)\n",
    "\n",
    "print(X.shape)\n",
    "#inps = {feat: house.results.__dict__[feat] for feat in ('bedrooms', 'bathrooms', 'year_built')}\n",
    "\n",
    "countertops_map = {\"Marble/Quartz\": [1, 0, 0, 0],\n",
    "                   \"Granite/Concrete\": [0, 1, 0, 0],\n",
    "                   '\"Formica/Tile\"': [0, 0, 1, 1], \n",
    "                   'Laminate': [0, 0, 0, 0], \n",
    "                   'skip': [X.quartz_countertops.mean(), \n",
    "                            X.granite_countertops.mean(), \n",
    "                            X.formica_countertops.mean(), \n",
    "                            X.tile_countertops.mean()]}\n",
    "\n",
    "flooring_map = {\"Hardwood\" : [0, 1], \n",
    "                \"Engineered/Laminate\": [1, 0], \n",
    "                \"Ceramic Tile\": [0, 0], \n",
    "                \"Porcelain Tile/Concrete\": [0, 0], \n",
    "                \"skip\": [X.laminate_floors.mean(), \n",
    "                         X.hardwood_floors.mean()]}\n",
    "\n",
    "roof_furnace_map = {**{'skip': y.mean()}, **{feat: feat \n",
    "                                             for feat \n",
    "                                             in [\"0-4 years\", \"5-9 years\", \"10-14 years\", \"15+\"]}}\n",
    "\n",
    "X.head()\n"
   ]
  },
  {
   "cell_type": "code",
   "execution_count": null,
   "metadata": {},
   "outputs": [
    {
     "name": "stdout",
     "output_type": "stream",
     "text": [
      "Fitting 3 folds for each of 10 candidates, totalling 30 fits\n",
      "[CV] regressor__n_estimators=548, regressor__min_samples_split=3, regressor__max_depth=4, regressor__learning_rate=0.1353352832366127 \n"
     ]
    },
    {
     "name": "stderr",
     "output_type": "stream",
     "text": [
      "[Parallel(n_jobs=1)]: Using backend SequentialBackend with 1 concurrent workers.\n"
     ]
    },
    {
     "name": "stdout",
     "output_type": "stream",
     "text": [
      "[CV]  regressor__n_estimators=548, regressor__min_samples_split=3, regressor__max_depth=4, regressor__learning_rate=0.1353352832366127, score=0.17971534520470722, total=   4.1s\n",
      "[CV] regressor__n_estimators=548, regressor__min_samples_split=3, regressor__max_depth=4, regressor__learning_rate=0.1353352832366127 \n"
     ]
    },
    {
     "name": "stderr",
     "output_type": "stream",
     "text": [
      "[Parallel(n_jobs=1)]: Done   1 out of   1 | elapsed:    4.3s remaining:    0.0s\n"
     ]
    },
    {
     "name": "stdout",
     "output_type": "stream",
     "text": [
      "[CV]  regressor__n_estimators=548, regressor__min_samples_split=3, regressor__max_depth=4, regressor__learning_rate=0.1353352832366127, score=0.19791636117509037, total=   4.1s\n",
      "[CV] regressor__n_estimators=548, regressor__min_samples_split=3, regressor__max_depth=4, regressor__learning_rate=0.1353352832366127 \n"
     ]
    },
    {
     "name": "stderr",
     "output_type": "stream",
     "text": [
      "[Parallel(n_jobs=1)]: Done   2 out of   2 | elapsed:    8.5s remaining:    0.0s\n"
     ]
    },
    {
     "name": "stdout",
     "output_type": "stream",
     "text": [
      "[CV]  regressor__n_estimators=548, regressor__min_samples_split=3, regressor__max_depth=4, regressor__learning_rate=0.1353352832366127, score=0.17935180254307925, total=   4.0s\n",
      "[CV] regressor__n_estimators=590, regressor__min_samples_split=4, regressor__max_depth=2, regressor__learning_rate=0.049787068367863944 \n"
     ]
    },
    {
     "name": "stderr",
     "output_type": "stream",
     "text": [
      "[Parallel(n_jobs=1)]: Done   3 out of   3 | elapsed:   12.7s remaining:    0.0s\n"
     ]
    },
    {
     "name": "stdout",
     "output_type": "stream",
     "text": [
      "[CV]  regressor__n_estimators=590, regressor__min_samples_split=4, regressor__max_depth=2, regressor__learning_rate=0.049787068367863944, score=0.1972395226519953, total=   2.0s\n",
      "[CV] regressor__n_estimators=590, regressor__min_samples_split=4, regressor__max_depth=2, regressor__learning_rate=0.049787068367863944 \n"
     ]
    },
    {
     "name": "stderr",
     "output_type": "stream",
     "text": [
      "[Parallel(n_jobs=1)]: Done   4 out of   4 | elapsed:   14.8s remaining:    0.0s\n"
     ]
    },
    {
     "name": "stdout",
     "output_type": "stream",
     "text": [
      "[CV]  regressor__n_estimators=590, regressor__min_samples_split=4, regressor__max_depth=2, regressor__learning_rate=0.049787068367863944, score=0.22472727482194021, total=   2.0s\n",
      "[CV] regressor__n_estimators=590, regressor__min_samples_split=4, regressor__max_depth=2, regressor__learning_rate=0.049787068367863944 \n"
     ]
    },
    {
     "name": "stderr",
     "output_type": "stream",
     "text": [
      "[Parallel(n_jobs=1)]: Done   5 out of   5 | elapsed:   16.9s remaining:    0.0s\n"
     ]
    },
    {
     "name": "stdout",
     "output_type": "stream",
     "text": [
      "[CV]  regressor__n_estimators=590, regressor__min_samples_split=4, regressor__max_depth=2, regressor__learning_rate=0.049787068367863944, score=0.2209681093962106, total=   2.1s\n",
      "[CV] regressor__n_estimators=141, regressor__min_samples_split=3, regressor__max_depth=8, regressor__learning_rate=0.049787068367863944 \n"
     ]
    },
    {
     "name": "stderr",
     "output_type": "stream",
     "text": [
      "[Parallel(n_jobs=1)]: Done   6 out of   6 | elapsed:   19.0s remaining:    0.0s\n"
     ]
    },
    {
     "name": "stdout",
     "output_type": "stream",
     "text": [
      "[CV]  regressor__n_estimators=141, regressor__min_samples_split=3, regressor__max_depth=8, regressor__learning_rate=0.049787068367863944, score=0.17718680364597308, total=   3.9s\n",
      "[CV] regressor__n_estimators=141, regressor__min_samples_split=3, regressor__max_depth=8, regressor__learning_rate=0.049787068367863944 \n"
     ]
    },
    {
     "name": "stderr",
     "output_type": "stream",
     "text": [
      "[Parallel(n_jobs=1)]: Done   7 out of   7 | elapsed:   23.1s remaining:    0.0s\n"
     ]
    },
    {
     "name": "stdout",
     "output_type": "stream",
     "text": [
      "[CV]  regressor__n_estimators=141, regressor__min_samples_split=3, regressor__max_depth=8, regressor__learning_rate=0.049787068367863944, score=0.19155432579819132, total=   4.3s\n",
      "[CV] regressor__n_estimators=141, regressor__min_samples_split=3, regressor__max_depth=8, regressor__learning_rate=0.049787068367863944 \n"
     ]
    },
    {
     "name": "stderr",
     "output_type": "stream",
     "text": [
      "[Parallel(n_jobs=1)]: Done   8 out of   8 | elapsed:   27.5s remaining:    0.0s\n"
     ]
    },
    {
     "name": "stdout",
     "output_type": "stream",
     "text": [
      "[CV]  regressor__n_estimators=141, regressor__min_samples_split=3, regressor__max_depth=8, regressor__learning_rate=0.049787068367863944, score=0.1742619371063755, total=   4.5s\n",
      "[CV] regressor__n_estimators=244, regressor__min_samples_split=3, regressor__max_depth=7, regressor__learning_rate=0.1353352832366127 \n"
     ]
    },
    {
     "name": "stderr",
     "output_type": "stream",
     "text": [
      "[Parallel(n_jobs=1)]: Done   9 out of   9 | elapsed:   32.2s remaining:    0.0s\n"
     ]
    },
    {
     "name": "stdout",
     "output_type": "stream",
     "text": [
      "[CV]  regressor__n_estimators=244, regressor__min_samples_split=3, regressor__max_depth=7, regressor__learning_rate=0.1353352832366127, score=0.12914601655596547, total=   4.8s\n",
      "[CV] regressor__n_estimators=244, regressor__min_samples_split=3, regressor__max_depth=7, regressor__learning_rate=0.1353352832366127 \n",
      "[CV]  regressor__n_estimators=244, regressor__min_samples_split=3, regressor__max_depth=7, regressor__learning_rate=0.1353352832366127, score=0.14959568677718693, total=   5.1s\n",
      "[CV] regressor__n_estimators=244, regressor__min_samples_split=3, regressor__max_depth=7, regressor__learning_rate=0.1353352832366127 \n",
      "[CV]  regressor__n_estimators=244, regressor__min_samples_split=3, regressor__max_depth=7, regressor__learning_rate=0.1353352832366127, score=0.1246904272310151, total=   4.6s\n",
      "[CV] regressor__n_estimators=646, regressor__min_samples_split=4, regressor__max_depth=8, regressor__learning_rate=0.1353352832366127 \n",
      "[CV]  regressor__n_estimators=646, regressor__min_samples_split=4, regressor__max_depth=8, regressor__learning_rate=0.1353352832366127, score=0.0346822212615836, total=  16.6s\n",
      "[CV] regressor__n_estimators=646, regressor__min_samples_split=4, regressor__max_depth=8, regressor__learning_rate=0.1353352832366127 \n"
     ]
    }
   ],
   "source": [
    "assert X.isna().sum().sum()==0\n",
    "\n",
    "gbr = Pipeline(steps=[('regressor', GradientBoostingRegressor())])\n",
    "\n",
    "param_grid = {'regressor__learning_rate': [np.exp(k) for k in range(-5, -1)], 'regressor__max_depth': range(2, 9), \n",
    "            'regressor__min_samples_split': [2, 3, 4], 'regressor__n_estimators': range(135, 800)} \n",
    "\n",
    "#param_grid = {'regressor__n_estimators': range(60, 500), 'regressor__min_samples_leaf': range(1, 100)}\n",
    "\n",
    "gbr_cv = RandomizedSearchCV(gbr, param_distributions=param_grid, n_iter=10, cv=3, iid=False, verbose=10)\n",
    "\n",
    "#try:\n",
    "gbr_cv.fit(X.drop(cate, axis=1), y)\n",
    "#except Exception as e: \n",
    "#    print(e)\n"
   ]
  },
  {
   "cell_type": "code",
   "execution_count": 4,
   "metadata": {},
   "outputs": [],
   "source": [
    "from valuation import valuation\n",
    "from constants import SurveyPredictants\n",
    "\n",
    "address, zipcode = \"4565 White Rd, Pierson, MI\", 49339\n",
    "house = ask_zillow(address, zipcode)\n",
    "\n",
    "#good_address = \"3400 Pacific Ave., Marina Del Rey, CA, 90292\", #\"12345 Butternut Avenue, Sand Lake, MI 49343\",\n",
    "countertops = \"Granite/Concrete\"\n",
    "flooring= \"Hardwood\"\n",
    "roof_age= \"0-4 years\"\n",
    "furnace_age= \"10-14 years\"\n",
    "\n",
    "x = valuation(house.results, SurveyPredictants(countertops, flooring, roof_age, furnace_age))"
   ]
  },
  {
   "cell_type": "code",
   "execution_count": null,
   "metadata": {},
   "outputs": [],
   "source": []
  },
  {
   "cell_type": "code",
   "execution_count": 28,
   "metadata": {},
   "outputs": [],
   "source": [
    "from category_encoders.helmert import HelmertEncoder\n",
    "\n"
   ]
  },
  {
   "cell_type": "code",
   "execution_count": 7,
   "metadata": {},
   "outputs": [
    {
     "data": {
      "text/plain": [
       "15+            20561\n",
       "10-14 years     2294\n",
       "5-9 years       1018\n",
       "0-4 years        900\n",
       "Name: roof_year, dtype: int64"
      ]
     },
     "execution_count": 7,
     "metadata": {},
     "output_type": "execute_result"
    }
   ],
   "source": [
    "X.roof_year.value_counts()"
   ]
  },
  {
   "cell_type": "code",
   "execution_count": 11,
   "metadata": {},
   "outputs": [
    {
     "data": {
      "text/plain": [
       "array([['15+', '15+'],\n",
       "       ['15+', '15+'],\n",
       "       ['15+', '15+'],\n",
       "       ...,\n",
       "       ['0-4 years', '0-4 years'],\n",
       "       ['15+', '15+'],\n",
       "       ['15+', '15+']], dtype=object)"
      ]
     },
     "execution_count": 11,
     "metadata": {},
     "output_type": "execute_result"
    }
   ],
   "source": [
    "# X[['roof_year', 'furnace_year']].values"
   ]
  },
  {
   "cell_type": "code",
   "execution_count": null,
   "metadata": {},
   "outputs": [],
   "source": []
  },
  {
   "cell_type": "code",
   "execution_count": null,
   "metadata": {},
   "outputs": [],
   "source": []
  },
  {
   "cell_type": "code",
   "execution_count": null,
   "metadata": {},
   "outputs": [],
   "source": []
  },
  {
   "cell_type": "code",
   "execution_count": 32,
   "metadata": {},
   "outputs": [
    {
     "data": {
      "text/plain": [
       "0.36787944117144233"
      ]
     },
     "execution_count": 32,
     "metadata": {},
     "output_type": "execute_result"
    }
   ],
   "source": [
    "np.exp(-1)"
   ]
  },
  {
   "cell_type": "code",
   "execution_count": null,
   "metadata": {},
   "outputs": [],
   "source": []
  },
  {
   "cell_type": "code",
   "execution_count": null,
   "metadata": {},
   "outputs": [],
   "source": []
  },
  {
   "cell_type": "code",
   "execution_count": null,
   "metadata": {},
   "outputs": [],
   "source": []
  },
  {
   "cell_type": "code",
   "execution_count": null,
   "metadata": {},
   "outputs": [],
   "source": []
  },
  {
   "cell_type": "code",
   "execution_count": null,
   "metadata": {},
   "outputs": [],
   "source": []
  },
  {
   "cell_type": "code",
   "execution_count": null,
   "metadata": {},
   "outputs": [],
   "source": []
  },
  {
   "cell_type": "code",
   "execution_count": null,
   "metadata": {},
   "outputs": [],
   "source": []
  },
  {
   "cell_type": "code",
   "execution_count": null,
   "metadata": {},
   "outputs": [],
   "source": []
  },
  {
   "cell_type": "code",
   "execution_count": null,
   "metadata": {},
   "outputs": [],
   "source": []
  },
  {
   "cell_type": "code",
   "execution_count": null,
   "metadata": {},
   "outputs": [],
   "source": []
  },
  {
   "cell_type": "code",
   "execution_count": null,
   "metadata": {},
   "outputs": [],
   "source": []
  },
  {
   "cell_type": "code",
   "execution_count": null,
   "metadata": {},
   "outputs": [],
   "source": []
  },
  {
   "cell_type": "code",
   "execution_count": null,
   "metadata": {},
   "outputs": [],
   "source": []
  },
  {
   "cell_type": "code",
   "execution_count": null,
   "metadata": {},
   "outputs": [],
   "source": []
  },
  {
   "cell_type": "code",
   "execution_count": null,
   "metadata": {},
   "outputs": [],
   "source": []
  },
  {
   "cell_type": "code",
   "execution_count": null,
   "metadata": {},
   "outputs": [],
   "source": []
  },
  {
   "cell_type": "code",
   "execution_count": null,
   "metadata": {},
   "outputs": [],
   "source": []
  },
  {
   "cell_type": "code",
   "execution_count": null,
   "metadata": {},
   "outputs": [],
   "source": []
  },
  {
   "cell_type": "code",
   "execution_count": null,
   "metadata": {},
   "outputs": [],
   "source": [
    "\n",
    "# zill_props = ['bathrooms',\n",
    "#  'bedrooms',\n",
    "#  'data',\n",
    "#  'get_attr',\n",
    "#  'graph_data_link',\n",
    "#  'home_detail_link',\n",
    "#  'home_size',\n",
    "#  'home_type',\n",
    "#  'last_sold_date',\n",
    "#  'last_sold_price',\n",
    "#  'last_sold_price_currency',\n",
    "#  'latitude',\n",
    "#  'longitude',\n",
    "#  'map_this_home_link',\n",
    "#  'property_size',\n",
    "#  'tax_value',\n",
    "#  'tax_year',\n",
    "#  'year_built',]\n"
   ]
  }
 ],
 "metadata": {
  "kernelspec": {
   "display_name": "Python 3",
   "language": "python",
   "name": "python3"
  },
  "language_info": {
   "codemirror_mode": {
    "name": "ipython",
    "version": 3
   },
   "file_extension": ".py",
   "mimetype": "text/x-python",
   "name": "python",
   "nbconvert_exporter": "python",
   "pygments_lexer": "ipython3",
   "version": "3.6.6"
  }
 },
 "nbformat": 4,
 "nbformat_minor": 2
}
